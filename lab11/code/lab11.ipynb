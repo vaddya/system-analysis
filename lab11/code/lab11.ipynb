{
 "cells": [
  {
   "cell_type": "code",
   "execution_count": 1,
   "metadata": {},
   "outputs": [],
   "source": [
    "import numpy as np"
   ]
  },
  {
   "cell_type": "code",
   "execution_count": 2,
   "metadata": {},
   "outputs": [],
   "source": [
    "np.set_printoptions(precision=4)"
   ]
  },
  {
   "cell_type": "code",
   "execution_count": 3,
   "metadata": {},
   "outputs": [],
   "source": [
    "m = np.array([2, 1, 2, 2])\n",
    "mu = np.array([10, 3, 7, 7])\n",
    "M = 4\n",
    "N = 4"
   ]
  },
  {
   "cell_type": "code",
   "execution_count": 4,
   "metadata": {},
   "outputs": [
    {
     "data": {
      "text/plain": [
       "array([1.3333, 0.1886, 0.4007, 0.1886])"
      ]
     },
     "execution_count": 4,
     "metadata": {},
     "output_type": "execute_result"
    }
   ],
   "source": [
    "alpha = np.array([4/3, 56/297, 119/297, 56/297])\n",
    "alpha"
   ]
  },
  {
   "cell_type": "code",
   "execution_count": 5,
   "metadata": {},
   "outputs": [
    {
     "data": {
      "text/plain": [
       "(array([0.6316, 0.0893, 0.1898, 0.0893]), 0.9999999999999999)"
      ]
     },
     "execution_count": 5,
     "metadata": {},
     "output_type": "execute_result"
    }
   ],
   "source": [
    "omega = alpha / alpha.sum()\n",
    "omega, omega.sum()"
   ]
  },
  {
   "cell_type": "code",
   "execution_count": 6,
   "metadata": {},
   "outputs": [],
   "source": [
    "states = np.array([[4,0,0,0], [3,1,0,0], [3,0,1,0], [3,0,0,1], [2,2,0,0], [2,1,1,0], [2,1,0,1], [2,0,2,0], [2,0,1,1], [2,0,0,2], \n",
    "                   [1,3,0,0], [1,2,1,0], [1,2,0,1], [1,1,2,0], [1,1,1,1], [1,1,0,2], [1,0,3,0], [1,0,2,1], [1,0,1,2], [1,0,0,3], \n",
    "                   [0,4,0,0], [0,3,1,0], [0,3,0,1], [0,2,2,0], [0,2,1,1], [0,2,0,2], [0,1,3,0], [0,1,2,1], [0,1,1,2], [0,1,0,3], \n",
    "                   [0,0,4,0], [0,0,3,1], [0,0,2,2], [0,0,1,3], [0,0,0,4]])"
   ]
  },
  {
   "cell_type": "code",
   "execution_count": 7,
   "metadata": {},
   "outputs": [],
   "source": [
    "def calc_mu(j, k):\n",
    "    return k * mu[j - 1] if k < m[j - 1] else m[j - 1] * mu[j - 1]\n",
    "\n",
    "def calc_z(i, n):\n",
    "    z = omega[i - 1] ** n\n",
    "    for j in range(1, n + 1):\n",
    "        z /= calc_mu(i, j)\n",
    "    return z\n",
    "\n",
    "def calc_g(states):\n",
    "    g = 0\n",
    "    for state in states:\n",
    "        mult = 1\n",
    "        for i in range(1, M + 1):\n",
    "            mult *= calc_z(i, state[i - 1])\n",
    "        g += mult\n",
    "    return g\n",
    "\n",
    "def calc_p(state, G):\n",
    "    p = 1\n",
    "    for i in range(1, M + 1):\n",
    "        p *= calc_z(i, state[i - 1])\n",
    "    return p / G"
   ]
  },
  {
   "cell_type": "code",
   "execution_count": 8,
   "metadata": {},
   "outputs": [
    {
     "data": {
      "text/plain": [
       "(array([0.0931, 0.0878, 0.0799, 0.0376, 0.0828, 0.0754, 0.0355, 0.0343,\n",
       "        0.0323, 0.0076, 0.078 , 0.071 , 0.0334, 0.0324, 0.0304, 0.0072,\n",
       "        0.0147, 0.0139, 0.0065, 0.0015, 0.0368, 0.0335, 0.0158, 0.0153,\n",
       "        0.0144, 0.0034, 0.0069, 0.0065, 0.0031, 0.0007, 0.0032, 0.003 ,\n",
       "        0.0014, 0.0007, 0.0002]), 0.9999999999999999)"
      ]
     },
     "execution_count": 8,
     "metadata": {},
     "output_type": "execute_result"
    }
   ],
   "source": [
    "G = calc_g(states)\n",
    "p = np.zeros(states.shape[0])\n",
    "for i in range(states.shape[0]):\n",
    "    p[i] = calc_p(states[i], G)\n",
    "p, p.sum()"
   ]
  },
  {
   "cell_type": "markdown",
   "metadata": {},
   "source": [
    "## Расчет узлов замкнутой сети"
   ]
  },
  {
   "cell_type": "code",
   "execution_count": 9,
   "metadata": {},
   "outputs": [
    {
     "data": {
      "text/plain": [
       "(array([1.8131, 1.2552, 0.6413, 0.2904]),\n",
       " array([0.3915, 0.5851, 0.031 , 0.0032]),\n",
       " array([1.4216, 0.6701, 0.6103, 0.2872]),\n",
       " array([0., 0., 0., 0.]))"
      ]
     },
     "execution_count": 9,
     "metadata": {},
     "output_type": "execute_result"
    }
   ],
   "source": [
    "n = np.zeros(M) # n\n",
    "nw = np.zeros(M) # n_ож\n",
    "ns = np.zeros(M) # n_обсл\n",
    "for j in range(M):\n",
    "    nj = states[:,j]\n",
    "    n[j] = np.multiply(nj, p).sum()\n",
    "    nw[j] = np.multiply(np.where(nj - m[j] > 0, nj - m[j], 0), p).sum()\n",
    "    ns[j] = np.multiply(np.where(nj > m[j], m[j], nj), p).sum()\n",
    "n, nw, ns, n - (nw + ns)"
   ]
  },
  {
   "cell_type": "code",
   "execution_count": 10,
   "metadata": {},
   "outputs": [
    {
     "data": {
      "text/plain": [
       "(array([0.1275, 0.6244, 0.1501, 0.1445]),\n",
       " array([0.0275, 0.291 , 0.0073, 0.0016]),\n",
       " array([0.1   , 0.3333, 0.1429, 0.1429]),\n",
       " array([0., 0., 0., 0.]))"
      ]
     },
     "execution_count": 10,
     "metadata": {},
     "output_type": "execute_result"
    }
   ],
   "source": [
    "t = n / ns / mu\n",
    "tw = nw / ns / mu\n",
    "ts = t - tw\n",
    "t, tw, ts, t - (tw + ts)"
   ]
  }
 ],
 "metadata": {
  "kernelspec": {
   "display_name": "Python 3",
   "language": "python",
   "name": "python3"
  },
  "language_info": {
   "codemirror_mode": {
    "name": "ipython",
    "version": 3
   },
   "file_extension": ".py",
   "mimetype": "text/x-python",
   "name": "python",
   "nbconvert_exporter": "python",
   "pygments_lexer": "ipython3",
   "version": "3.6.4"
  }
 },
 "nbformat": 4,
 "nbformat_minor": 2
}
