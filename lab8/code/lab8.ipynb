{
 "cells": [
  {
   "cell_type": "code",
   "execution_count": 1,
   "metadata": {},
   "outputs": [],
   "source": [
    "import pandas as pd\n",
    "import numpy as np"
   ]
  },
  {
   "cell_type": "code",
   "execution_count": 2,
   "metadata": {},
   "outputs": [],
   "source": [
    "N = 1\n",
    "T1 = 4\n",
    "T2 = 10\n",
    "T3 = 10\n",
    "PROC_NUM = 3\n",
    "QUEUE_SIZE = 16\n",
    "MAX_STATE = PROC_NUM + QUEUE_SIZE\n",
    "MU = 1 / T1\n",
    "NU = 1 / T2"
   ]
  },
  {
   "cell_type": "code",
   "execution_count": 3,
   "metadata": {},
   "outputs": [],
   "source": [
    "def get_lambda(i):\n",
    "    return N"
   ]
  },
  {
   "cell_type": "code",
   "execution_count": 4,
   "metadata": {},
   "outputs": [],
   "source": [
    "def get_mu(i):\n",
    "    if i <= PROC_NUM:\n",
    "        return i * MU\n",
    "    else:\n",
    "        return PROC_NUM * MU + (i - PROC_NUM) * NU"
   ]
  },
  {
   "cell_type": "code",
   "execution_count": 5,
   "metadata": {},
   "outputs": [],
   "source": [
    "def state_prob(i):\n",
    "    prob = 1;\n",
    "    if i == 0:\n",
    "        for i in range(1, MAX_STATE + 1):\n",
    "            prob += state_prob(i)\n",
    "        prob = 1 / prob\n",
    "    else:\n",
    "        prob = 1\n",
    "        for i in range(1, i + 1):\n",
    "            prob *= get_lambda(i) / get_mu(i)\n",
    "    return prob"
   ]
  },
  {
   "cell_type": "code",
   "execution_count": 6,
   "metadata": {},
   "outputs": [],
   "source": [
    "df = pd.DataFrame(index=np.arange(MAX_STATE + 1), columns=('prob','busy','queue'))\n",
    "df.index.name = 'state'"
   ]
  },
  {
   "cell_type": "code",
   "execution_count": 7,
   "metadata": {},
   "outputs": [
    {
     "data": {
      "text/plain": [
       "1.0"
      ]
     },
     "execution_count": 7,
     "metadata": {},
     "output_type": "execute_result"
    }
   ],
   "source": [
    "sum = 0\n",
    "for i in range(0, MAX_STATE + 1):\n",
    "    if i == 0:\n",
    "        df.prob[i] = state_prob(0)\n",
    "        sum += df.prob[i]\n",
    "    else:\n",
    "        df.prob[i] = df.prob[0] * state_prob(i)\n",
    "        sum += df.prob[i]\n",
    "df.prob.sum()"
   ]
  },
  {
   "cell_type": "markdown",
   "metadata": {},
   "source": [
    "Среднее количество занятых работников рассчитаем сумму произведений вероятностей состояний на количество занятых работников в них:"
   ]
  },
  {
   "cell_type": "code",
   "execution_count": 8,
   "metadata": {},
   "outputs": [],
   "source": [
    "def busy_count(i):\n",
    "    return i if i <= PROC_NUM else PROC_NUM"
   ]
  },
  {
   "cell_type": "code",
   "execution_count": 9,
   "metadata": {},
   "outputs": [
    {
     "name": "stdout",
     "output_type": "stream",
     "text": [
      "busy = 2.80873\n"
     ]
    }
   ],
   "source": [
    "for i in range(0, MAX_STATE + 1):\n",
    "    df.busy[i] = busy_count(i)\n",
    "print('{} = {:.5f}'.format('busy', df.busy.multiply(df.prob).sum()))"
   ]
  },
  {
   "cell_type": "markdown",
   "metadata": {},
   "source": [
    "Средняя длина очереди считается аналогично: сумма произведений вероятностей состояний на длину очереди в них:"
   ]
  },
  {
   "cell_type": "code",
   "execution_count": 10,
   "metadata": {},
   "outputs": [],
   "source": [
    "def queue_length(i):\n",
    "    return 0 if i <= PROC_NUM else i - PROC_NUM"
   ]
  },
  {
   "cell_type": "code",
   "execution_count": 11,
   "metadata": {},
   "outputs": [
    {
     "name": "stdout",
     "output_type": "stream",
     "text": [
      "queue = 2.97698\n"
     ]
    }
   ],
   "source": [
    "for i in range(0, MAX_STATE + 1):\n",
    "    df.queue[i] = queue_length(i)\n",
    "print('{} = {:.5f}'.format('queue', df.queue.multiply(df.prob).sum()))"
   ]
  },
  {
   "cell_type": "code",
   "execution_count": 12,
   "metadata": {},
   "outputs": [
    {
     "data": {
      "text/html": [
       "<div>\n",
       "<style scoped>\n",
       "    .dataframe tbody tr th:only-of-type {\n",
       "        vertical-align: middle;\n",
       "    }\n",
       "\n",
       "    .dataframe tbody tr th {\n",
       "        vertical-align: top;\n",
       "    }\n",
       "\n",
       "    .dataframe thead th {\n",
       "        text-align: right;\n",
       "    }\n",
       "</style>\n",
       "<table border=\"1\" class=\"dataframe\">\n",
       "  <thead>\n",
       "    <tr style=\"text-align: right;\">\n",
       "      <th></th>\n",
       "      <th>prob</th>\n",
       "      <th>busy</th>\n",
       "      <th>queue</th>\n",
       "    </tr>\n",
       "  </thead>\n",
       "  <tbody>\n",
       "    <tr>\n",
       "      <th>0</th>\n",
       "      <td>0.0100668</td>\n",
       "      <td>0</td>\n",
       "      <td>0</td>\n",
       "    </tr>\n",
       "    <tr>\n",
       "      <th>1</th>\n",
       "      <td>0.0402672</td>\n",
       "      <td>1</td>\n",
       "      <td>0</td>\n",
       "    </tr>\n",
       "    <tr>\n",
       "      <th>2</th>\n",
       "      <td>0.0805345</td>\n",
       "      <td>2</td>\n",
       "      <td>0</td>\n",
       "    </tr>\n",
       "    <tr>\n",
       "      <th>3</th>\n",
       "      <td>0.107379</td>\n",
       "      <td>3</td>\n",
       "      <td>0</td>\n",
       "    </tr>\n",
       "    <tr>\n",
       "      <th>4</th>\n",
       "      <td>0.126329</td>\n",
       "      <td>3</td>\n",
       "      <td>1</td>\n",
       "    </tr>\n",
       "    <tr>\n",
       "      <th>5</th>\n",
       "      <td>0.132977</td>\n",
       "      <td>3</td>\n",
       "      <td>2</td>\n",
       "    </tr>\n",
       "    <tr>\n",
       "      <th>6</th>\n",
       "      <td>0.126645</td>\n",
       "      <td>3</td>\n",
       "      <td>3</td>\n",
       "    </tr>\n",
       "    <tr>\n",
       "      <th>7</th>\n",
       "      <td>0.110126</td>\n",
       "      <td>3</td>\n",
       "      <td>4</td>\n",
       "    </tr>\n",
       "    <tr>\n",
       "      <th>8</th>\n",
       "      <td>0.088101</td>\n",
       "      <td>3</td>\n",
       "      <td>5</td>\n",
       "    </tr>\n",
       "    <tr>\n",
       "      <th>9</th>\n",
       "      <td>0.06526</td>\n",
       "      <td>3</td>\n",
       "      <td>6</td>\n",
       "    </tr>\n",
       "    <tr>\n",
       "      <th>10</th>\n",
       "      <td>0.0450069</td>\n",
       "      <td>3</td>\n",
       "      <td>7</td>\n",
       "    </tr>\n",
       "    <tr>\n",
       "      <th>11</th>\n",
       "      <td>0.0290367</td>\n",
       "      <td>3</td>\n",
       "      <td>8</td>\n",
       "    </tr>\n",
       "    <tr>\n",
       "      <th>12</th>\n",
       "      <td>0.017598</td>\n",
       "      <td>3</td>\n",
       "      <td>9</td>\n",
       "    </tr>\n",
       "    <tr>\n",
       "      <th>13</th>\n",
       "      <td>0.010056</td>\n",
       "      <td>3</td>\n",
       "      <td>10</td>\n",
       "    </tr>\n",
       "    <tr>\n",
       "      <th>14</th>\n",
       "      <td>0.00543568</td>\n",
       "      <td>3</td>\n",
       "      <td>11</td>\n",
       "    </tr>\n",
       "    <tr>\n",
       "      <th>15</th>\n",
       "      <td>0.00278753</td>\n",
       "      <td>3</td>\n",
       "      <td>12</td>\n",
       "    </tr>\n",
       "    <tr>\n",
       "      <th>16</th>\n",
       "      <td>0.00135977</td>\n",
       "      <td>3</td>\n",
       "      <td>13</td>\n",
       "    </tr>\n",
       "    <tr>\n",
       "      <th>17</th>\n",
       "      <td>0.000632451</td>\n",
       "      <td>3</td>\n",
       "      <td>14</td>\n",
       "    </tr>\n",
       "    <tr>\n",
       "      <th>18</th>\n",
       "      <td>0.000281089</td>\n",
       "      <td>3</td>\n",
       "      <td>15</td>\n",
       "    </tr>\n",
       "    <tr>\n",
       "      <th>19</th>\n",
       "      <td>0.000119612</td>\n",
       "      <td>3</td>\n",
       "      <td>16</td>\n",
       "    </tr>\n",
       "    <tr>\n",
       "      <th>20</th>\n",
       "      <td>1</td>\n",
       "      <td>54</td>\n",
       "      <td>136</td>\n",
       "    </tr>\n",
       "  </tbody>\n",
       "</table>\n",
       "</div>"
      ],
      "text/plain": [
       "           prob busy queue\n",
       "0     0.0100668    0     0\n",
       "1     0.0402672    1     0\n",
       "2     0.0805345    2     0\n",
       "3      0.107379    3     0\n",
       "4      0.126329    3     1\n",
       "5      0.132977    3     2\n",
       "6      0.126645    3     3\n",
       "7      0.110126    3     4\n",
       "8      0.088101    3     5\n",
       "9       0.06526    3     6\n",
       "10    0.0450069    3     7\n",
       "11    0.0290367    3     8\n",
       "12     0.017598    3     9\n",
       "13     0.010056    3    10\n",
       "14   0.00543568    3    11\n",
       "15   0.00278753    3    12\n",
       "16   0.00135977    3    13\n",
       "17  0.000632451    3    14\n",
       "18  0.000281089    3    15\n",
       "19  0.000119612    3    16\n",
       "20            1   54   136"
      ]
     },
     "execution_count": 12,
     "metadata": {},
     "output_type": "execute_result"
    }
   ],
   "source": [
    "df.to_csv('../data/data.csv')\n",
    "df.append(df.sum(), ignore_index=True)"
   ]
  },
  {
   "cell_type": "markdown",
   "metadata": {},
   "source": [
    "Вероятность отказа из-за заполненной очереди равна вероятности последнего состояния:"
   ]
  },
  {
   "cell_type": "code",
   "execution_count": 13,
   "metadata": {},
   "outputs": [
    {
     "name": "stdout",
     "output_type": "stream",
     "text": [
      "reject_prob = 0.00012\n"
     ]
    }
   ],
   "source": [
    "reject_prob = df.prob[MAX_STATE]\n",
    "print('{} = {:.5f}'.format('reject_prob', reject_prob))"
   ]
  },
  {
   "cell_type": "markdown",
   "metadata": {},
   "source": [
    "Вероятность ухода из очереди равна отношению интенсивности ухода к интенсивности поступления заявок, умноженному на среднюю длину очереди:"
   ]
  },
  {
   "cell_type": "code",
   "execution_count": 18,
   "metadata": {},
   "outputs": [
    {
     "name": "stdout",
     "output_type": "stream",
     "text": [
      "leave_prob = 0.29770\n"
     ]
    }
   ],
   "source": [
    "leave_prob = NU / N * df.queue.multiply(df.prob).sum()\n",
    "print('{} = {:.5f}'.format('leave_prob', leave_prob))"
   ]
  },
  {
   "cell_type": "markdown",
   "metadata": {},
   "source": [
    "Вероятность успешного обслуживания найдем как произведение вероятностей отстутствия отказа обслуживания и ухода из очереди:"
   ]
  },
  {
   "cell_type": "code",
   "execution_count": 19,
   "metadata": {},
   "outputs": [
    {
     "name": "stdout",
     "output_type": "stream",
     "text": [
      "success_prob = 0.70222\n"
     ]
    }
   ],
   "source": [
    "success_prob = (1 - leave_prob) * (1 - reject_prob)\n",
    "print('{} = {:.5f}'.format('success_prob', success_prob))"
   ]
  },
  {
   "cell_type": "markdown",
   "metadata": {},
   "source": [
    "Среднее количество человек в системе найдем как сумму средней длины очереди и среднего количества занятых каналов:"
   ]
  },
  {
   "cell_type": "code",
   "execution_count": 22,
   "metadata": {},
   "outputs": [
    {
     "name": "stdout",
     "output_type": "stream",
     "text": [
      "mean_cnt = 5.78571\n"
     ]
    }
   ],
   "source": [
    "mean_cnt = df.queue.multiply(df.prob).sum() + df.busy.multiply(df.prob).sum()\n",
    "print('{} = {:.5f}'.format('mean_cnt', mean_cnt))"
   ]
  },
  {
   "cell_type": "markdown",
   "metadata": {},
   "source": [
    "Среднее время нахождения в системе найдем с помощью закону Литтла: $t_c = \\dfrac{j}{\\lambda} + T$, где $T$ - время обеда, умноженное на вероятность успешного обслуживания:"
   ]
  },
  {
   "cell_type": "code",
   "execution_count": 23,
   "metadata": {},
   "outputs": [
    {
     "name": "stdout",
     "output_type": "stream",
     "text": [
      "mean_time = 12.80789\n"
     ]
    }
   ],
   "source": [
    "mean_time = mean_cnt / N + T3 * success_prob\n",
    "print('{} = {:.5f}'.format('mean_time', mean_time))"
   ]
  }
 ],
 "metadata": {
  "kernelspec": {
   "display_name": "Python 3",
   "language": "python",
   "name": "python3"
  },
  "language_info": {
   "codemirror_mode": {
    "name": "ipython",
    "version": 3
   },
   "file_extension": ".py",
   "mimetype": "text/x-python",
   "name": "python",
   "nbconvert_exporter": "python",
   "pygments_lexer": "ipython3",
   "version": "3.6.4"
  }
 },
 "nbformat": 4,
 "nbformat_minor": 2
}
