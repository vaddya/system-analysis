{
 "cells": [
  {
   "cell_type": "code",
   "execution_count": 1,
   "metadata": {},
   "outputs": [],
   "source": [
    "N = 1\n",
    "T1 = 4\n",
    "T2 = 10\n",
    "T3 = 10\n",
    "PROC_NUM = 3\n",
    "QUEUE_SIZE = 16\n",
    "MAX_STATE = PROC_NUM + QUEUE_SIZE\n",
    "MU = 1 / T1\n",
    "NU = 1 / T2"
   ]
  },
  {
   "cell_type": "code",
   "execution_count": 2,
   "metadata": {},
   "outputs": [],
   "source": [
    "def get_lambda(i):\n",
    "    return N"
   ]
  },
  {
   "cell_type": "code",
   "execution_count": 3,
   "metadata": {},
   "outputs": [],
   "source": [
    "def get_mu(i):\n",
    "    if i <= PROC_NUM:\n",
    "        return i * MU\n",
    "    else:\n",
    "        return PROC_NUM * MU + (i - PROC_NUM) * NU"
   ]
  },
  {
   "cell_type": "code",
   "execution_count": 4,
   "metadata": {},
   "outputs": [],
   "source": [
    "def state_prob(i):\n",
    "    prob = 1;\n",
    "    if i == 0:\n",
    "        for i in range(1, MAX_STATE + 1):\n",
    "            prob += state_prob(i)\n",
    "        prob = 1 / prob\n",
    "    else:\n",
    "        prob = 1\n",
    "        for i in range(1, i + 1):\n",
    "            prob *= get_lambda(i) / get_mu(i)\n",
    "    return prob"
   ]
  },
  {
   "cell_type": "code",
   "execution_count": 5,
   "metadata": {},
   "outputs": [
    {
     "name": "stdout",
     "output_type": "stream",
     "text": [
      "state prob  0 = 0.01007\n",
      "state prob  1 = 0.04027\n",
      "state prob  2 = 0.08053\n",
      "state prob  3 = 0.10738\n",
      "state prob  4 = 0.12633\n",
      "state prob  5 = 0.13298\n",
      "state prob  6 = 0.12665\n",
      "state prob  7 = 0.11013\n",
      "state prob  8 = 0.08810\n",
      "state prob  9 = 0.06526\n",
      "state prob 10 = 0.04501\n",
      "state prob 11 = 0.02904\n",
      "state prob 12 = 0.01760\n",
      "state prob 13 = 0.01006\n",
      "state prob 14 = 0.00544\n",
      "state prob 15 = 0.00279\n",
      "state prob 16 = 0.00136\n",
      "state prob 17 = 0.00063\n",
      "state prob 18 = 0.00028\n",
      "state prob 19 = 0.00012\n",
      "          sum = 1.00000\n"
     ]
    }
   ],
   "source": [
    "sum = 0\n",
    "states = dict()\n",
    "for i in range(0, MAX_STATE + 1):\n",
    "    if i == 0:\n",
    "        states[0] = state_prob(0)\n",
    "        sum += states[0]\n",
    "    else:\n",
    "        states[i] = states[0] * state_prob(i)\n",
    "        sum += states[i]\n",
    "    print('state prob {:2d} = {:.5f}'.format(i, states[i]))\n",
    "print('{:>13s} = {:.5f}'.format('sum', sum))"
   ]
  },
  {
   "cell_type": "markdown",
   "metadata": {},
   "source": [
    "Среднее количество занятых работников рассчитаем сумму произведений вероятностей состояний на количество занятых работников в них:"
   ]
  },
  {
   "cell_type": "code",
   "execution_count": 6,
   "metadata": {},
   "outputs": [],
   "source": [
    "def busy_count(i):\n",
    "    return i if i <= PROC_NUM else PROC_NUM"
   ]
  },
  {
   "cell_type": "code",
   "execution_count": 7,
   "metadata": {},
   "outputs": [
    {
     "name": "stdout",
     "output_type": "stream",
     "text": [
      "buys_cnt = 2.80873\n"
     ]
    }
   ],
   "source": [
    "busy_cnt = 0\n",
    "for i in range(0, MAX_STATE + 1):\n",
    "    busy_cnt += states[i] * busy_count(i)\n",
    "print('{} = {:.5f}'.format('buys_cnt', busy_cnt))"
   ]
  },
  {
   "cell_type": "markdown",
   "metadata": {},
   "source": [
    "Средняя длина очереди считается аналогично: сумма произведений вероятностей состояний на длину очереди в них:"
   ]
  },
  {
   "cell_type": "code",
   "execution_count": 8,
   "metadata": {},
   "outputs": [],
   "source": [
    "def queue_length(i):\n",
    "    return 0 if i <= PROC_NUM else i - PROC_NUM"
   ]
  },
  {
   "cell_type": "code",
   "execution_count": 9,
   "metadata": {},
   "outputs": [
    {
     "name": "stdout",
     "output_type": "stream",
     "text": [
      "queue_len = 2.97698\n"
     ]
    }
   ],
   "source": [
    "queue_len = 0\n",
    "for i in range(0, MAX_STATE + 1):\n",
    "    queue_len += states[i] * queue_length(i)\n",
    "print('{} = {:.5f}'.format('queue_len', queue_len))"
   ]
  },
  {
   "cell_type": "markdown",
   "metadata": {},
   "source": [
    "Вероятность отказа из-за заполненной очереди равна вероятности состояния 19:"
   ]
  },
  {
   "cell_type": "code",
   "execution_count": 10,
   "metadata": {},
   "outputs": [
    {
     "name": "stdout",
     "output_type": "stream",
     "text": [
      "reject_prob = 0.00012\n"
     ]
    }
   ],
   "source": [
    "reject_prob = states[MAX_STATE]\n",
    "print('{} = {:.5f}'.format('reject_prob', reject_prob))"
   ]
  },
  {
   "cell_type": "markdown",
   "metadata": {},
   "source": [
    "Вероятность ухода из очереди  отношение интенсивности ухода к интенсивности поступления заявок, умноженное на среднюю длину очереди:"
   ]
  },
  {
   "cell_type": "code",
   "execution_count": 11,
   "metadata": {},
   "outputs": [
    {
     "name": "stdout",
     "output_type": "stream",
     "text": [
      "leave_prob = 0.29770\n"
     ]
    }
   ],
   "source": [
    "leave_prob = NU / N * queue_len\n",
    "print('{} = {:.5f}'.format('leave_prob', leave_prob))"
   ]
  },
  {
   "cell_type": "markdown",
   "metadata": {},
   "source": [
    "Успешное обслуживание производится при отсутствии отказа при поступлении и ухода из очереди. Перемножив вероятности того, что эти события не наступят:"
   ]
  },
  {
   "cell_type": "code",
   "execution_count": 12,
   "metadata": {},
   "outputs": [
    {
     "name": "stdout",
     "output_type": "stream",
     "text": [
      "success_prob = 0.70222\n"
     ]
    }
   ],
   "source": [
    "success_prob = (1 - leave_prob) * (1 - reject_prob)\n",
    "print('{} = {:.5f}'.format('success_prob', success_prob))"
   ]
  },
  {
   "cell_type": "markdown",
   "metadata": {},
   "source": [
    "Вычислим среднее кол-во человек в системе как сумму средней длины очереди и занятых поваров:"
   ]
  },
  {
   "cell_type": "code",
   "execution_count": 13,
   "metadata": {},
   "outputs": [
    {
     "name": "stdout",
     "output_type": "stream",
     "text": [
      "mean_cnt = 5.78571\n"
     ]
    }
   ],
   "source": [
    "mean_cnt = queue_len + busy_cnt\n",
    "print('{} = {:.5f}'.format('mean_cnt', mean_cnt))"
   ]
  },
  {
   "cell_type": "markdown",
   "metadata": {},
   "source": [
    "Согласно закону Литтла среднее время нахождения в системе равно $t_c = \\dfrac{j}{\\lambda} + T$, где $T$ - время обеда, умноженное на вероятность успешного обслуживания:"
   ]
  },
  {
   "cell_type": "code",
   "execution_count": 14,
   "metadata": {},
   "outputs": [
    {
     "name": "stdout",
     "output_type": "stream",
     "text": [
      "mean_time = 12.80789\n"
     ]
    }
   ],
   "source": [
    "mean_time = mean_cnt / N + T3 * success_prob\n",
    "print('{} = {:.5f}'.format('mean_time', mean_time))"
   ]
  }
 ],
 "metadata": {
  "kernelspec": {
   "display_name": "Python 3",
   "language": "python",
   "name": "python3"
  },
  "language_info": {
   "codemirror_mode": {
    "name": "ipython",
    "version": 3
   },
   "file_extension": ".py",
   "mimetype": "text/x-python",
   "name": "python",
   "nbconvert_exporter": "python",
   "pygments_lexer": "ipython3",
   "version": "3.6.4"
  }
 },
 "nbformat": 4,
 "nbformat_minor": 2
}
