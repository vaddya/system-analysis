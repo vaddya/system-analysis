{
 "cells": [
  {
   "cell_type": "code",
   "execution_count": 1,
   "metadata": {},
   "outputs": [],
   "source": [
    "import numpy as np\n",
    "from math import factorial"
   ]
  },
  {
   "cell_type": "code",
   "execution_count": 2,
   "metadata": {},
   "outputs": [],
   "source": [
    "np.set_printoptions(precision=4)"
   ]
  },
  {
   "cell_type": "code",
   "execution_count": 3,
   "metadata": {},
   "outputs": [],
   "source": [
    "M = 4\n",
    "lambda_0 = 3.5"
   ]
  },
  {
   "cell_type": "code",
   "execution_count": 4,
   "metadata": {},
   "outputs": [],
   "source": [
    "def calc_rho(m, mu, alpha):\n",
    "    return alpha * lambda_0 / mu"
   ]
  },
  {
   "cell_type": "code",
   "execution_count": 5,
   "metadata": {},
   "outputs": [],
   "source": [
    "def calc_p0(m, rho):\n",
    "    if m == 1:\n",
    "        return 1 - rho\n",
    "    else:\n",
    "        p0 = 1\n",
    "        for i in np.arange(1, m + 1):\n",
    "            p0 += rho ** i / factorial(i)\n",
    "        p0 += rho ** (m + 1) / factorial(m) / (m - rho)\n",
    "        return 1 / p0"
   ]
  },
  {
   "cell_type": "code",
   "execution_count": 6,
   "metadata": {},
   "outputs": [],
   "source": [
    "def calc_l(m, p0, rho):\n",
    "    if m == 1:\n",
    "        return rho ** 2 / (1 - rho)\n",
    "    else:\n",
    "        return p0 * rho ** (m + 1) / m / (1 - rho / m) ** 2 / factorial(m)"
   ]
  },
  {
   "cell_type": "code",
   "execution_count": 7,
   "metadata": {},
   "outputs": [],
   "source": [
    "def calc_n(m, l, rho):\n",
    "    if m == 1:\n",
    "        return l\n",
    "    else:\n",
    "        return l + rho"
   ]
  },
  {
   "cell_type": "code",
   "execution_count": 8,
   "metadata": {},
   "outputs": [],
   "source": [
    "def calc_to(m, p0, rho, mu):\n",
    "    if m == 1:\n",
    "        return rho / (1 - rho)\n",
    "    else:\n",
    "        return p0 * rho ** m / m / mu / factorial(m) / (1 - rho / m) ** 2"
   ]
  },
  {
   "cell_type": "code",
   "execution_count": 9,
   "metadata": {},
   "outputs": [],
   "source": [
    "def calc_t(m, to, mu, alpha):\n",
    "    if m == 1:\n",
    "        return 1 / (mu - alpha * lambda_0)\n",
    "    else:\n",
    "        return to + 1 / mu"
   ]
  },
  {
   "cell_type": "code",
   "execution_count": 10,
   "metadata": {},
   "outputs": [],
   "source": [
    "def calc_system(m, mu, alpha):\n",
    "    rho = calc_rho(m, mu, alpha)\n",
    "    p0 = calc_p0(m, rho)\n",
    "    l = calc_l(m, p0, rho)\n",
    "    n = calc_n(m, l, rho)\n",
    "    to = calc_to(m, p0, rho, mu)\n",
    "    t = calc_t(m, to, mu, alpha)\n",
    "    return (l, n, to, t)"
   ]
  },
  {
   "cell_type": "code",
   "execution_count": 11,
   "metadata": {},
   "outputs": [],
   "source": [
    "m = np.array([2, 1, 2, 2])\n",
    "mu = np.array([10, 3, 7, 7])\n",
    "alpha = np.array([4/3, 56/297, 119/297, 56/297])"
   ]
  },
  {
   "cell_type": "code",
   "execution_count": 12,
   "metadata": {},
   "outputs": [],
   "source": [
    "l = np.zeros(M)\n",
    "n = np.zeros(M)\n",
    "to = np.zeros(M)\n",
    "t = np.zeros(M)"
   ]
  },
  {
   "cell_type": "markdown",
   "metadata": {},
   "source": [
    "## Расчет узлов системы"
   ]
  },
  {
   "cell_type": "code",
   "execution_count": 13,
   "metadata": {},
   "outputs": [],
   "source": [
    "for i in range(M):\n",
    "    (l[i], n[i], to[i], t[i]) = calc_system(m[i], mu[i], alpha[i])"
   ]
  },
  {
   "cell_type": "code",
   "execution_count": 14,
   "metadata": {},
   "outputs": [
    {
     "data": {
      "text/plain": [
       "(array([0.4935, 0.062 , 0.2024, 0.0945]),\n",
       " array([0.0269, 0.062 , 0.002 , 0.0002]),\n",
       " array([0.1058, 0.4273, 0.1443, 0.1432]),\n",
       " array([0.0058, 0.282 , 0.0014, 0.0003]))"
      ]
     },
     "execution_count": 14,
     "metadata": {},
     "output_type": "execute_result"
    }
   ],
   "source": [
    "n, l, t, to"
   ]
  },
  {
   "cell_type": "markdown",
   "metadata": {},
   "source": [
    "## Расчет все сети"
   ]
  },
  {
   "cell_type": "code",
   "execution_count": 15,
   "metadata": {},
   "outputs": [
    {
     "data": {
      "text/plain": [
       "array([0.8524, 0.0911, 0.3064, 0.0615])"
      ]
     },
     "execution_count": 15,
     "metadata": {},
     "output_type": "execute_result"
    }
   ],
   "source": [
    "np.array([n.sum(), l.sum(), np.multiply(alpha, t).sum(), np.multiply(alpha, to).sum()])"
   ]
  }
 ],
 "metadata": {
  "kernelspec": {
   "display_name": "Python 3",
   "language": "python",
   "name": "python3"
  },
  "language_info": {
   "codemirror_mode": {
    "name": "ipython",
    "version": 3
   },
   "file_extension": ".py",
   "mimetype": "text/x-python",
   "name": "python",
   "nbconvert_exporter": "python",
   "pygments_lexer": "ipython3",
   "version": "3.6.4"
  }
 },
 "nbformat": 4,
 "nbformat_minor": 2
}
