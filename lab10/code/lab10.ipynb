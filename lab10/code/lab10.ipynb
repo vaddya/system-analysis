{
 "cells": [
  {
   "cell_type": "code",
   "execution_count": 1,
   "metadata": {},
   "outputs": [],
   "source": [
    "import numpy as np\n",
    "from math import factorial"
   ]
  },
  {
   "cell_type": "code",
   "execution_count": 2,
   "metadata": {},
   "outputs": [],
   "source": [
    "lambda_0 = 3.5"
   ]
  },
  {
   "cell_type": "code",
   "execution_count": 3,
   "metadata": {},
   "outputs": [],
   "source": [
    "def calc_rho(m, mu, alpha):\n",
    "    return alpha * lambda_0 / mu"
   ]
  },
  {
   "cell_type": "code",
   "execution_count": 4,
   "metadata": {},
   "outputs": [],
   "source": [
    "def calc_p0(m, rho):\n",
    "    if m == 1:\n",
    "        return 1 - rho\n",
    "    else:\n",
    "        p0 = 1\n",
    "        for i in np.arange(1, m + 1):\n",
    "            p0 += rho ** i / factorial(i)\n",
    "        p0 += rho ** (m + 1) / factorial(m) / (m - rho)\n",
    "        return 1 / p0"
   ]
  },
  {
   "cell_type": "code",
   "execution_count": 5,
   "metadata": {},
   "outputs": [],
   "source": [
    "def calc_l(m, p0, rho):\n",
    "    if m == 1:\n",
    "        return rho ** 2 / (1 - rho)\n",
    "    else:\n",
    "        return p0 * rho ** (m + 1) / m / (1 - rho / m) ** 2 / factorial(m)"
   ]
  },
  {
   "cell_type": "code",
   "execution_count": 6,
   "metadata": {},
   "outputs": [],
   "source": [
    "def calc_n(m, l, rho):\n",
    "    if m == 1:\n",
    "        return l\n",
    "    else:\n",
    "        return l + rho"
   ]
  },
  {
   "cell_type": "code",
   "execution_count": 7,
   "metadata": {},
   "outputs": [],
   "source": [
    "def calc_to(m, p0, rho, mu):\n",
    "    if m == 1:\n",
    "        return rho / (1 - rho)\n",
    "    else:\n",
    "        return p0 * rho ** m / m / mu / factorial(m) / (1 - rho / m) ** 2"
   ]
  },
  {
   "cell_type": "code",
   "execution_count": 8,
   "metadata": {},
   "outputs": [],
   "source": [
    "def calc_t(m, to, mu, alpha):\n",
    "    if m == 1:\n",
    "        return 1 / (mu - alpha * lambda_0)\n",
    "    else:\n",
    "        return to + 1 / mu"
   ]
  },
  {
   "cell_type": "code",
   "execution_count": 9,
   "metadata": {},
   "outputs": [],
   "source": [
    "def calc_system(m, mu, alpha):\n",
    "    rho = calc_rho(m, mu, alpha)\n",
    "    p0 = calc_p0(m, rho)\n",
    "    l = calc_l(m, p0, rho)\n",
    "    n = calc_n(m, l, rho)\n",
    "    to = calc_to(m, p0, rho, mu)\n",
    "    t = calc_t(m, to, mu, alpha)\n",
    "    return (l, n, to, t)"
   ]
  },
  {
   "cell_type": "code",
   "execution_count": 10,
   "metadata": {},
   "outputs": [],
   "source": [
    "def print_system(l, n, to, t):\n",
    "    print('n = {:0.4f}, l = {:0.4f}, t = {:0.4f}, to = {:0.4f}'.format(n, l, t, to))"
   ]
  },
  {
   "cell_type": "markdown",
   "metadata": {},
   "source": [
    "## Расчет первой системы $M/M/2$"
   ]
  },
  {
   "cell_type": "code",
   "execution_count": 11,
   "metadata": {},
   "outputs": [],
   "source": [
    "m_1 = 2\n",
    "mu_1 = 10\n",
    "alpha_1 = 4 / 3"
   ]
  },
  {
   "cell_type": "code",
   "execution_count": 12,
   "metadata": {},
   "outputs": [
    {
     "name": "stdout",
     "output_type": "stream",
     "text": [
      "n = 0.4935, l = 0.0269, t = 0.1058, to = 0.0058\n"
     ]
    }
   ],
   "source": [
    "(l_1, n_1, to_1, t_1) = calc_system(m_1, mu_1, alpha_1)\n",
    "print_system(l_1, n_1, to_1, t_1)"
   ]
  },
  {
   "cell_type": "markdown",
   "metadata": {},
   "source": [
    "## Расчет второй системы $M/M/1$"
   ]
  },
  {
   "cell_type": "code",
   "execution_count": 13,
   "metadata": {},
   "outputs": [],
   "source": [
    "m_2 = 1\n",
    "mu_2 = 3\n",
    "alpha_2 = 56 / 297"
   ]
  },
  {
   "cell_type": "code",
   "execution_count": 14,
   "metadata": {},
   "outputs": [
    {
     "name": "stdout",
     "output_type": "stream",
     "text": [
      "n = 0.0620, l = 0.0620, t = 0.4273, to = 0.2820\n"
     ]
    }
   ],
   "source": [
    "(l_2, n_2, to_2, t_2) = calc_system(m_2, mu_2, alpha_2)\n",
    "print_system(l_2, n_2, to_2, t_2)"
   ]
  },
  {
   "cell_type": "markdown",
   "metadata": {},
   "source": [
    "## Расчет третьей системы $M/M/2$"
   ]
  },
  {
   "cell_type": "code",
   "execution_count": 15,
   "metadata": {},
   "outputs": [],
   "source": [
    "m_3 = 2\n",
    "mu_3 = 7\n",
    "alpha_3 = 119 / 297"
   ]
  },
  {
   "cell_type": "code",
   "execution_count": 16,
   "metadata": {},
   "outputs": [
    {
     "name": "stdout",
     "output_type": "stream",
     "text": [
      "n = 0.2024, l = 0.0020, t = 0.1443, to = 0.0014\n"
     ]
    }
   ],
   "source": [
    "(l_3, n_3, to_3, t_3) = calc_system(m_3, mu_3, alpha_3)\n",
    "print_system(l_3, n_3, to_3, t_3)"
   ]
  },
  {
   "cell_type": "markdown",
   "metadata": {},
   "source": [
    "## Расчет четвертой системы $M/M/2$"
   ]
  },
  {
   "cell_type": "code",
   "execution_count": 17,
   "metadata": {},
   "outputs": [],
   "source": [
    "m_4 = 2\n",
    "mu_4 = 7\n",
    "alpha_4 = 56 / 297"
   ]
  },
  {
   "cell_type": "code",
   "execution_count": 18,
   "metadata": {},
   "outputs": [
    {
     "name": "stdout",
     "output_type": "stream",
     "text": [
      "n = 0.0945, l = 0.0002, t = 0.1432, to = 0.0003\n"
     ]
    }
   ],
   "source": [
    "(l_4, n_4, to_4, t_4) = calc_system(m_4, mu_4, alpha_4)\n",
    "print_system(l_4, n_4, to_4, t_4)"
   ]
  },
  {
   "cell_type": "code",
   "execution_count": 19,
   "metadata": {},
   "outputs": [
    {
     "data": {
      "text/plain": [
       "0.00031813482099235345"
      ]
     },
     "execution_count": 19,
     "metadata": {},
     "output_type": "execute_result"
    }
   ],
   "source": [
    "to_4"
   ]
  },
  {
   "cell_type": "markdown",
   "metadata": {},
   "source": [
    "## Расчет сети"
   ]
  },
  {
   "cell_type": "code",
   "execution_count": 20,
   "metadata": {},
   "outputs": [
    {
     "name": "stdout",
     "output_type": "stream",
     "text": [
      "n = 0.8524\n"
     ]
    }
   ],
   "source": [
    "n = n_1 + n_2 + n_3 + n_4\n",
    "print('n = {:0.4f}'.format(n))"
   ]
  },
  {
   "cell_type": "code",
   "execution_count": 21,
   "metadata": {},
   "outputs": [
    {
     "name": "stdout",
     "output_type": "stream",
     "text": [
      "l = 0.0911\n"
     ]
    }
   ],
   "source": [
    "l = l_1 + l_2 + l_3 + l_4\n",
    "print('l = {:0.4f}'.format(l))"
   ]
  },
  {
   "cell_type": "code",
   "execution_count": 22,
   "metadata": {},
   "outputs": [
    {
     "name": "stdout",
     "output_type": "stream",
     "text": [
      "to = 0.0615\n"
     ]
    }
   ],
   "source": [
    "to = alpha_1 * to_1 + alpha_2 * to_2 + alpha_3 * to_3 + alpha_4 * to_4\n",
    "print('to = {:0.4f}'.format(to))"
   ]
  },
  {
   "cell_type": "code",
   "execution_count": 23,
   "metadata": {},
   "outputs": [
    {
     "name": "stdout",
     "output_type": "stream",
     "text": [
      "t = 0.3064\n"
     ]
    }
   ],
   "source": [
    "t = alpha_1 * t_1 + alpha_2 * t_2 + alpha_3 * t_3 + alpha_4 * t_4\n",
    "print('t = {:0.4f}'.format(t))"
   ]
  }
 ],
 "metadata": {
  "kernelspec": {
   "display_name": "Python 3",
   "language": "python",
   "name": "python3"
  },
  "language_info": {
   "codemirror_mode": {
    "name": "ipython",
    "version": 3
   },
   "file_extension": ".py",
   "mimetype": "text/x-python",
   "name": "python",
   "nbconvert_exporter": "python",
   "pygments_lexer": "ipython3",
   "version": "3.6.4"
  }
 },
 "nbformat": 4,
 "nbformat_minor": 2
}
